{
 "cells": [
  {
   "cell_type": "code",
   "execution_count": 1,
   "metadata": {},
   "outputs": [],
   "source": [
    "from selenium import webdriver\n",
    "from selenium.webdriver.common.keys import Keys\n",
    "import time\n",
    "from bs4 import BeautifulSoup\n",
    "import json\n",
    "import pandas as pd\n",
    "import requests"
   ]
  },
  {
   "cell_type": "code",
   "execution_count": 3,
   "metadata": {},
   "outputs": [],
   "source": [
    "options = webdriver.ChromeOptions()\n",
    "options.binary_location = '/usr/bin/google-chrome-stable'\n",
    "options.add_argument('--headless')\n",
    "options.add_argument('--no-sandbox')\n",
    "options.add_argument('window-size=1200x600')"
   ]
  },
  {
   "cell_type": "code",
   "execution_count": null,
   "metadata": {},
   "outputs": [],
   "source": [
    "driver = webdriver.Chrome(options=options)"
   ]
  },
  {
   "cell_type": "code",
   "execution_count": 5,
   "metadata": {},
   "outputs": [],
   "source": [
    "driver.get('https://images.google.com')"
   ]
  },
  {
   "cell_type": "code",
   "execution_count": 6,
   "metadata": {},
   "outputs": [],
   "source": [
    "# Wait for page to load\n",
    "driver.implicitly_wait(5)"
   ]
  },
  {
   "cell_type": "code",
   "execution_count": 7,
   "metadata": {},
   "outputs": [],
   "source": [
    "# Enter a search in the box, this case \"cactus in desert\"\n",
    "searchbox = driver.find_element_by_css_selector('input[type=text]')\n",
    "searchbox.send_keys('cactus in desert')\n",
    "searchbox.send_keys(Keys.ENTER)"
   ]
  },
  {
   "cell_type": "code",
   "execution_count": 11,
   "metadata": {},
   "outputs": [],
   "source": [
    "# Open the tool bar to advanced search\n",
    "tools = driver.find_element_by_css_selector('#hdtb-tls')\n",
    "tools.click()"
   ]
  },
  {
   "cell_type": "code",
   "execution_count": 15,
   "metadata": {},
   "outputs": [],
   "source": [
    "# Use images that can be reused (optional)\n",
    "usage_rights = driver.find_element_by_css_selector('#hdtbMenus > div > div:nth-child(8)')\n",
    "usage_rights.click()\n",
    "usage_rights_reuse = driver.find_element_by_css_selector('#sur_fmc')\n",
    "usage_rights_reuse.click()"
   ]
  },
  {
   "cell_type": "code",
   "execution_count": 19,
   "metadata": {},
   "outputs": [],
   "source": [
    "# Select only photos\n",
    "imagetype = driver.find_element_by_css_selector('#hdtbMenus > div > div:nth-child(11)')\n",
    "imagetype.click()\n",
    "imagetype_photo = driver.find_element_by_css_selector('#itp_photo')\n",
    "imagetype_photo.click()"
   ]
  },
  {
   "cell_type": "code",
   "execution_count": 23,
   "metadata": {},
   "outputs": [],
   "source": [
    "# Avoid extra large/small images\n",
    "imagesize = driver.find_element_by_css_selector('#hdtbMenus > div > div:nth-child(2)')\n",
    "imagesize.click()\n",
    "imagesize_medium = driver.find_element_by_css_selector('#isz_m')\n",
    "imagesize_medium.click()"
   ]
  },
  {
   "cell_type": "code",
   "execution_count": 27,
   "metadata": {},
   "outputs": [
    {
     "data": {
      "text/plain": [
       "True"
      ]
     },
     "execution_count": 27,
     "metadata": {},
     "output_type": "execute_result"
    }
   ],
   "source": [
    "# Inspect the screenshot that search looks good\n",
    "driver.save_screenshot('images_google.png')"
   ]
  },
  {
   "cell_type": "code",
   "execution_count": 26,
   "metadata": {},
   "outputs": [],
   "source": [
    "# Scroll to the bottom, waiting to avoid bot detection\n",
    "element = driver.find_element_by_tag_name(\"body\")\n",
    "for i in range(80):\n",
    "    element.send_keys(Keys.PAGE_DOWN)\n",
    "    time.sleep(0.3)"
   ]
  },
  {
   "cell_type": "code",
   "execution_count": 28,
   "metadata": {},
   "outputs": [],
   "source": [
    "# Switching from chrome to BeautifulSoup, chromedriver over longer periods will break\n",
    "for_bs = driver.page_source"
   ]
  },
  {
   "cell_type": "code",
   "execution_count": 30,
   "metadata": {},
   "outputs": [],
   "source": [
    "page_bs = BeautifulSoup(for_bs)"
   ]
  },
  {
   "cell_type": "code",
   "execution_count": 31,
   "metadata": {},
   "outputs": [],
   "source": [
    "# Select each image box\n",
    "images = page_bs.find_all(\"div\", {\"class\": \"rg_bx\"})"
   ]
  },
  {
   "cell_type": "code",
   "execution_count": 32,
   "metadata": {},
   "outputs": [
    {
     "data": {
      "text/plain": [
       "400"
      ]
     },
     "execution_count": 32,
     "metadata": {},
     "output_type": "execute_result"
    }
   ],
   "source": [
    "len(images)"
   ]
  },
  {
   "cell_type": "code",
   "execution_count": 35,
   "metadata": {},
   "outputs": [],
   "source": [
    "# Create a list of parsed json from each image box\n",
    "image_list = []\n",
    "for img in images:\n",
    "    image_list.append(json.loads(img.find('div', {'class': 'rg_meta notranslate'}).contents[0]))"
   ]
  },
  {
   "cell_type": "code",
   "execution_count": 36,
   "metadata": {},
   "outputs": [],
   "source": [
    "# Convert to a dataframe\n",
    "image_df = pd.DataFrame(image_list)"
   ]
  },
  {
   "cell_type": "code",
   "execution_count": 41,
   "metadata": {},
   "outputs": [],
   "source": [
    "# Adding a header for requests, some servers will reject requests that aren't from a browser\n",
    "headers = {\n",
    "    'upgrade-insecure-requests': '1',\n",
    "    'user-agent': 'Mozilla/5.0 (Windows NT 10.0; Win64; x64) AppleWebKit/537.36 (KHTML, like Gecko) Chrome/71.0.3578.98 Safari/537.36',\n",
    "    'accept': 'text/html,application/xhtml+xml,application/xml;q=0.9,image/webp,image/apng,*/*;q=0.8',\n",
    "    'accept-encoding': 'gzip, deflate, br',\n",
    "    'accept-language': 'en-US,en;q=0.9',\n",
    "}"
   ]
  },
  {
   "cell_type": "code",
   "execution_count": 50,
   "metadata": {},
   "outputs": [
    {
     "name": "stdout",
     "output_type": "stream",
     "text": [
      "Images Downloaded: 0\n",
      "Images Downloaded: 10\n",
      "Images Downloaded: 20\n",
      "Images Downloaded: 30\n",
      "Images Downloaded: 40\n",
      "Images Downloaded: 50\n",
      "Images Downloaded: 60\n",
      "Images Downloaded: 70\n",
      "Images Downloaded: 80\n",
      "Images Downloaded: 90\n",
      "Images Downloaded: 100\n",
      "Images Downloaded: 110\n",
      "Images Downloaded: 120\n",
      "Images Downloaded: 130\n",
      "Images Downloaded: 140\n",
      "Images Downloaded: 150\n",
      "Images Downloaded: 160\n",
      "Images Downloaded: 170\n",
      "Images Downloaded: 180\n",
      "Images Downloaded: 190\n",
      "Images Downloaded: 200\n",
      "Images Downloaded: 210\n",
      "Images Downloaded: 220\n",
      "Images Downloaded: 230\n",
      "Images Downloaded: 240\n",
      "Images Downloaded: 250\n",
      "Images Downloaded: 260\n",
      "Images Downloaded: 270\n",
      "Images Downloaded: 280\n",
      "Images Downloaded: 290\n",
      "Images Downloaded: 300\n",
      "Images Downloaded: 310\n",
      "Images Downloaded: 320\n",
      "Images Downloaded: 330\n",
      "Images Downloaded: 340\n",
      "Images Downloaded: 350\n",
      "Images Downloaded: 360\n",
      "Images Downloaded: 370\n",
      "Images Downloaded: 380\n",
      "Images Downloaded: 390\n"
     ]
    }
   ],
   "source": [
    "# Download each image, has a timeout to avoid overloading the same server\n",
    "for i in range(len(image_df.index)):\n",
    "    time.sleep(2)\n",
    "    img_url = image_df['ou'][i]\n",
    "    img_ext = image_df['ity'][i]\n",
    "    img_name = str(i) + '.' + img_ext\n",
    "    response = requests.get(img_url, headers=headers)\n",
    "    if response.ok:\n",
    "        with open(img_name, 'w+') as img_file:\n",
    "            img_file.write(response.content)\n",
    "    else:\n",
    "        print(\"Error downloading: \"+ img_url)\n",
    "    if i % 10 == 0:\n",
    "        print(\"Images Downloaded: \" + str(i))"
   ]
  },
  {
   "cell_type": "code",
   "execution_count": null,
   "metadata": {},
   "outputs": [],
   "source": [
    "# Save images to a zip\n",
    "zipf = zipfile.ZipFile('images2.zip', 'w', zipfile.ZIP_DEFLATED)"
   ]
  },
  {
   "cell_type": "code",
   "execution_count": null,
   "metadata": {},
   "outputs": [],
   "source": [
    "for f in os.listdir('.'):\n",
    "    if os.path.splitext(f)[1] in set(image_df['ity']):\n",
    "        zipf.write(f)"
   ]
  },
  {
   "cell_type": "code",
   "execution_count": null,
   "metadata": {},
   "outputs": [],
   "source": [
    "for f in os.listdir('.'):\n",
    "    if os.path.splitext(f)[1] in set(image_df['ity']):\n",
    "        os.remove(f)"
   ]
  }
 ],
 "metadata": {
  "kernelspec": {
   "display_name": "Python 2",
   "language": "python",
   "name": "python2"
  },
  "language_info": {
   "codemirror_mode": {
    "name": "ipython",
    "version": 2
   },
   "file_extension": ".py",
   "mimetype": "text/x-python",
   "name": "python",
   "nbconvert_exporter": "python",
   "pygments_lexer": "ipython2",
   "version": "2.7.15"
  }
 },
 "nbformat": 4,
 "nbformat_minor": 2
}
